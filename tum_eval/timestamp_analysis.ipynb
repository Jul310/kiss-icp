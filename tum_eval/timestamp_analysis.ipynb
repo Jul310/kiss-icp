{
 "cells": [
  {
   "cell_type": "code",
   "execution_count": null,
   "metadata": {},
   "outputs": [],
   "source": [
    "import os\n",
    "import numpy as np\n",
    "\n",
    "import matplotlib.pyplot as plt\n",
    "\n",
    "\n",
    "%matplotlib widget"
   ]
  },
  {
   "cell_type": "code",
   "execution_count": null,
   "metadata": {},
   "outputs": [],
   "source": [
    "data_root = \"/home/julian/projects/thesis/datasets/converted\"\n",
    "\n",
    "data = {\n",
    "\"front\": os.path.join(data_root, \"mdv3_innovusion_front\"),\n",
    "\"rear\":  os.path.join(data_root, \"mdv3_innovusion_rear\"),\n",
    "\"left\":  os.path.join(data_root, \"mdv3_ouster_left\"),\n",
    "\"right\": os.path.join(data_root, \"mdv3_ouster_right\")\n",
    "}"
   ]
  },
  {
   "cell_type": "code",
   "execution_count": null,
   "metadata": {},
   "outputs": [],
   "source": [
    "for i, path in data.items():\n",
    "    stamps = np.loadtxt(os.path.join(path, \"times\", \"lidar_timestamps.txt\"))\n",
    "    first = stamps[0,0] #+ stamps[0,1] * 1e9\n",
    "    timestamps = stamps[:,0] - first + stamps[:,1] * 1e-9\n",
    "    data[i] = timestamps"
   ]
  },
  {
   "cell_type": "code",
   "execution_count": null,
   "metadata": {},
   "outputs": [],
   "source": [
    "for v in data.values():\n",
    "    print(v.shape)"
   ]
  },
  {
   "cell_type": "code",
   "execution_count": null,
   "metadata": {},
   "outputs": [],
   "source": [
    "# Find the minimum length among the arrays\n",
    "min_length = min(min(arr.shape[0] for arr in data.values()), 500)\n",
    "\n",
    "# Create an nx4 matrix by slicing each array to the minimum length\n",
    "matrix = np.column_stack(((arr[:min_length] for arr in data.values())))\n",
    "o_matrix = np.column_stack(((arr[:min_length] for key, arr in data.items() if key in [\"left\", \"right\"] )))\n",
    "i_matrix = np.column_stack(((arr[:min_length] for key, arr in data.items() if key in [\"front\", \"rear\"] )))"
   ]
  },
  {
   "cell_type": "code",
   "execution_count": null,
   "metadata": {},
   "outputs": [],
   "source": [
    "def compute_difference(matrix):\n",
    "    diff = []\n",
    "    for i in range(min_length):\n",
    "        minv = np.min(matrix[i,:])\n",
    "        maxv = np.max(matrix[i,:])\n",
    "        diff.append(maxv - minv)\n",
    "    return diff\n",
    "\n",
    "diff = compute_difference(matrix)\n",
    "o_diff = compute_difference(o_matrix)\n",
    "i_diff = compute_difference(i_matrix)"
   ]
  },
  {
   "cell_type": "code",
   "execution_count": null,
   "metadata": {},
   "outputs": [],
   "source": [
    "# Create a Matplotlib figure and axis\n",
    "f = plt.figure(figsize=(12, 6))\n",
    "plt.title('Time difference between first and last LiDAR measurement')\n",
    "plt.xlabel('Index')\n",
    "plt.ylabel('Time difference [s]')\n",
    "\n",
    "plt.plot(diff, label='Innovusion + Ouster')\n",
    "plt.plot(i_diff, label='Innovusion')\n",
    "plt.plot(o_diff, label='Ouster')\n",
    "# Customize the legend\n",
    "plt.legend(loc='best')\n",
    "\n",
    "# Show the plot\n",
    "plt.tight_layout()\n",
    "plt.grid(True)\n",
    "plt.show()\n",
    "\n",
    "f.savefig('figures/time_differences.pdf')"
   ]
  },
  {
   "cell_type": "code",
   "execution_count": null,
   "metadata": {},
   "outputs": [],
   "source": [
    "# Create a Matplotlib figure and axis\n",
    "plt.figure(figsize=(12, 6))\n",
    "plt.title('Arrival Time Comparison of Sensor Messages (Last 5 seconds)')\n",
    "plt.xlabel('Time (s) since Start')\n",
    "plt.ylabel('Sensor')\n",
    "\n",
    "# Define colors for each sensor\n",
    "colors = ['b', 'g', 'r', 'c']\n",
    "\n",
    "# Plot arrival times for each sensor within the time span\n",
    "for i, (sensor, timestamps) in enumerate(data.items()):\n",
    "    # Filter timestamps within the specified time span\n",
    "    filtered_timestamps = [t for t in timestamps if t <= 2]\n",
    "    \n",
    "    plt.scatter(filtered_timestamps, [sensor] * len(filtered_timestamps), label=sensor, color=colors[i], s=200)\n",
    "\n",
    "# Customize the legend\n",
    "plt.legend(loc='best')\n",
    "\n",
    "# Show the plot\n",
    "plt.tight_layout()\n",
    "plt.grid(True)\n",
    "plt.show()"
   ]
  },
  {
   "cell_type": "code",
   "execution_count": null,
   "metadata": {},
   "outputs": [],
   "source": [
    "# Calculate time differences for each sensor\n",
    "# time_differences = {sensor: [(t - timestamps[0]).total_seconds() for t in timestamps] for sensor, timestamps in data.items()}\n",
    "time_differences = data"
   ]
  },
  {
   "cell_type": "code",
   "execution_count": null,
   "metadata": {},
   "outputs": [],
   "source": [
    "plt.figure(figsize=(10, 6))\n",
    "plt.title('Histogram of Time Differences between Sensor Messages')\n",
    "plt.xlabel('Time Difference (seconds)')\n",
    "plt.ylabel('Frequency')\n",
    "plt.hist(time_differences.values(), bins=20, label=list(time_differences.keys()), alpha=0.7)\n",
    "plt.legend(loc='upper right')\n",
    "plt.grid(True)\n",
    "plt.show()"
   ]
  },
  {
   "cell_type": "code",
   "execution_count": null,
   "metadata": {},
   "outputs": [],
   "source": [
    "# Create a violin plot of time differences\n",
    "plt.figure(figsize=(10, 6))\n",
    "plt.title('Violin Plot of Time Differences between Sensor Messages')\n",
    "plt.xlabel('Sensor')\n",
    "plt.ylabel('Time Difference (seconds)')\n",
    "plt.violinplot(time_differences.values(), showmedians=True, showextrema=False)\n",
    "plt.xticks(range(1, len(data) + 1), data.keys())\n",
    "plt.grid(True)\n",
    "plt.show()"
   ]
  },
  {
   "cell_type": "code",
   "execution_count": null,
   "metadata": {},
   "outputs": [],
   "source": [
    "# Create a heatmap of message arrivals over time\n",
    "plt.figure(figsize=(12, 6))\n",
    "plt.title('Heatmap of Message Arrivals over Time')\n",
    "plt.xlabel('Time (seconds)')\n",
    "plt.ylabel('Sensor')\n",
    "\n",
    "# Convert time differences to a 2D numpy array for the heatmap\n",
    "time_diff_array = np.array([time_differences[sensor] for sensor in data.keys()])\n",
    "\n",
    "# Plot the heatmap\n",
    "plt.imshow(time_diff_array, cmap='viridis', aspect='auto')\n",
    "plt.colorbar(label='Time Difference (seconds)')\n",
    "plt.yticks(np.arange(len(data)), data.keys())\n",
    "plt.grid(False)\n",
    "plt.show()"
   ]
  },
  {
   "cell_type": "code",
   "execution_count": null,
   "metadata": {},
   "outputs": [],
   "source": [
    "plt.close('all')\n",
    "for i, (key, stamps) in enumerate(data.items()):\n",
    "    print(stamps.shape)\n",
    "    plt.scatter(stamps, i * np.ones(stamps.shape[0]), marker='x')\n",
    "    \n",
    "    \n",
    "plt.show()"
   ]
  }
 ],
 "metadata": {
  "kernelspec": {
   "display_name": "Python 3",
   "language": "python",
   "name": "python3"
  },
  "language_info": {
   "codemirror_mode": {
    "name": "ipython",
    "version": 3
   },
   "file_extension": ".py",
   "mimetype": "text/x-python",
   "name": "python",
   "nbconvert_exporter": "python",
   "pygments_lexer": "ipython3",
   "version": "3.8.10"
  },
  "orig_nbformat": 4
 },
 "nbformat": 4,
 "nbformat_minor": 2
}
