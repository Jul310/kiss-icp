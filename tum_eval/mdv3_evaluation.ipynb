{
 "cells": [
  {
   "cell_type": "code",
   "execution_count": 2,
   "metadata": {},
   "outputs": [
    {
     "name": "stdout",
     "output_type": "stream",
     "text": [
      "The autoreload extension is already loaded. To reload it, use:\n",
      "  %reload_ext autoreload\n"
     ]
    }
   ],
   "source": [
    "import copy\n",
    "import numpy as np\n",
    "import os\n",
    "import matplotlib.pyplot as plt\n",
    "import pprint\n",
    "\n",
    "from copy import deepcopy\n",
    "from evo.core import metrics, sync\n",
    "from evo.core.trajectory import PosePath3D\n",
    "from evo.tools import plot\n",
    "\n",
    "from tools.tum_tools import *\n",
    "from tools.tum_plots import *\n",
    "from tools.tum_definitions import *\n",
    "\n",
    "%load_ext autoreload\n",
    "%autoreload 2\n",
    "\n",
    "%matplotlib inline\n",
    "%matplotlib widget\n"
   ]
  },
  {
   "cell_type": "code",
   "execution_count": null,
   "metadata": {},
   "outputs": [],
   "source": [
    "!evo_traj tum ekf_pose_with_covariance.tum --ref in_pose_with_covariance.tum -p"
   ]
  },
  {
   "cell_type": "code",
   "execution_count": null,
   "metadata": {},
   "outputs": [],
   "source": [
    "# Load previously computed data\n",
    "import pickle\n",
    "\n",
    "data_root = \"\"\n",
    "\n",
    "gt_file = os.path.join(\"data/full\", \"gt_poses.pkl\")\n",
    "traj_file = os.path.join(\"data/full2\", \"kiss_trajectories_corrected_corr.pkl\")\n",
    "\n",
    "with open(gt_file, 'rb') as f:\n",
    "    gt_dict = pickle.load(f)\n",
    "    \n",
    "with open(traj_file, 'rb') as f:\n",
    "    traj_dict = pickle.load(f)\n",
    "    \n",
    "    "
   ]
  },
  {
   "cell_type": "code",
   "execution_count": null,
   "metadata": {},
   "outputs": [],
   "source": [
    "# Extract relevant data\n",
    "current_key = \"mdv3_full_no_merge\"\n",
    "traj_ref = gt_dict['trajectory']\n",
    "traj_est = traj_dict[current_key][2]\n",
    "\n"
   ]
  },
  {
   "cell_type": "code",
   "execution_count": null,
   "metadata": {},
   "outputs": [],
   "source": [
    "traj_ref.timestamps"
   ]
  },
  {
   "cell_type": "code",
   "execution_count": null,
   "metadata": {},
   "outputs": [],
   "source": [
    "len(traj_est.timestamps)"
   ]
  },
  {
   "cell_type": "code",
   "execution_count": null,
   "metadata": {},
   "outputs": [],
   "source": [
    "# Align data\n",
    "max_diff = 1\n",
    "\n",
    "traj_ref, traj_est = sync.associate_trajectories(traj_ref, traj_est, max_diff)\n"
   ]
  },
  {
   "cell_type": "code",
   "execution_count": null,
   "metadata": {},
   "outputs": [],
   "source": [
    "# Compute Metrics\n",
    "ape_metric = metrics.APE()\n",
    "ape_metric.process_data((traj_ref, traj_est))\n",
    "ape_stats = ape_metric.get_all_statistics()\n",
    "pprint.pprint(ape_stats)"
   ]
  },
  {
   "cell_type": "code",
   "execution_count": null,
   "metadata": {},
   "outputs": [],
   "source": [
    "plot_ape_errors(traj_ref, traj_est, ape_metric, ape_stats)\n",
    "plt.savefig(f\"figures/ape_{current_key}.pdf\", format=\"pdf\", bbox_inches=\"tight\")"
   ]
  },
  {
   "cell_type": "code",
   "execution_count": null,
   "metadata": {},
   "outputs": [],
   "source": [
    "# PLOT THE FULL SET\n",
    "\n",
    "max_diff = 0.01\n",
    "results = {}\n",
    "\n",
    "for recording in Mdv3Dataset:\n",
    "    if traj_dict.get(recording.value) is None:\n",
    "        print(f\"Info: Did not found a recorded trajectory for {recording.value}\")\n",
    "        continue\n",
    "\n",
    "    traj_ref = gt_dict['trajectory']\n",
    "    traj_est = traj_dict[recording.value][2]\n",
    "    traj_ref, traj_est = sync.associate_trajectories(traj_ref, traj_est, max_diff)\n",
    "    \n",
    "    ape_metric = metrics.APE()\n",
    "    ape_metric.process_data((traj_ref, traj_est))\n",
    "    ape_stats = ape_metric.get_all_statistics()\n",
    "    plot_ape_errors(traj_ref, traj_est, ape_metric, ape_stats, title=recording.value)\n",
    "    plt.savefig(f\"figures/ape_{recording.value}.pdf\", format=\"pdf\", bbox_inches=\"tight\")\n",
    "    results[recording.value] = ape_stats\n",
    "    "
   ]
  },
  {
   "cell_type": "code",
   "execution_count": null,
   "metadata": {},
   "outputs": [],
   "source": [
    "for recording, stats in results.items():\n",
    "    print(f\"Statistics for {recording}\")\n",
    "    pprint.pprint(stats)"
   ]
  },
  {
   "cell_type": "code",
   "execution_count": null,
   "metadata": {},
   "outputs": [],
   "source": [
    "results"
   ]
  },
  {
   "cell_type": "code",
   "execution_count": null,
   "metadata": {},
   "outputs": [],
   "source": [
    "import csv\n",
    "import itertools\n",
    "\n",
    "fields = [ 'Type', 'max', 'mean', 'median', 'min', 'rmse', 'sse', 'std']\n",
    "\n",
    "\n",
    "with open(\"test_output.csv\", \"w\") as f:\n",
    "    w = csv.DictWriter(f, fields)\n",
    "    w.writeheader()\n",
    "    for k in results:\n",
    "        w.writerow({field: results[k].get(field) or k for field in fields})"
   ]
  },
  {
   "cell_type": "code",
   "execution_count": null,
   "metadata": {},
   "outputs": [],
   "source": [
    "plot_trajectories_from_poses(traj_ref, traj_est)"
   ]
  }
 ],
 "metadata": {
  "kernelspec": {
   "display_name": "Python 3",
   "language": "python",
   "name": "python3"
  },
  "language_info": {
   "codemirror_mode": {
    "name": "ipython",
    "version": 3
   },
   "file_extension": ".py",
   "mimetype": "text/x-python",
   "name": "python",
   "nbconvert_exporter": "python",
   "pygments_lexer": "ipython3",
   "version": "3.8.10"
  },
  "orig_nbformat": 4
 },
 "nbformat": 4,
 "nbformat_minor": 2
}
