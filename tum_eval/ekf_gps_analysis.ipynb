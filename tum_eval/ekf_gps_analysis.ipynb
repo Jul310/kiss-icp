{
 "cells": [
  {
   "cell_type": "code",
   "execution_count": null,
   "metadata": {},
   "outputs": [],
   "source": [
    "import math\n",
    "import numpy as np\n",
    "import os\n",
    "import pprint\n",
    "\n",
    "from evo.tools import plot\n",
    "from evo.tools.plot import PlotMode\n",
    "from evo.core.metrics import PoseRelation, Unit\n",
    "from evo.tools.settings import SETTINGS\n",
    "from evo.tools import file_interface\n",
    "from evo.core import sync\n",
    "from evo.core.sync import TrajectoryPair\n",
    "\n",
    "from os import path\n",
    "from tools.tum_plots import *\n",
    "from tools.tum_tools import *\n",
    "\n",
    "# temporarily override some package settings\n",
    "SETTINGS.plot_figsize = [6, 6]\n",
    "SETTINGS.plot_split = True\n",
    "SETTINGS.plot_usetex = True\n",
    "\n",
    "%load_ext autoreload\n",
    "%autoreload 2\n",
    "\n",
    "# magic plot configuration\n",
    "import matplotlib.pyplot as plt\n",
    "%matplotlib widget\n"
   ]
  },
  {
   "cell_type": "markdown",
   "metadata": {},
   "source": [
    "## Plotting"
   ]
  },
  {
   "cell_type": "markdown",
   "metadata": {},
   "source": [
    "### Data Read"
   ]
  },
  {
   "cell_type": "code",
   "execution_count": null,
   "metadata": {},
   "outputs": [],
   "source": [
    "# Read dataset configuration\n",
    "data_set = \"kiss-v3\"\n",
    "\n",
    "data_root = path.join(\"data\", \"tum_format\", data_set)\n",
    "\n",
    "gps_pose_name = \"ekf_gt_gps.tum\"\n",
    "ekf_pose_name = \"ekf_pose_with_covariance.tum\"\n",
    "kiss_pose_name = \"odometry.tum\"\n",
    "\n",
    "gps_file = path.join(data_root, gps_pose_name)\n",
    "ekf_file = path.join(data_root, ekf_pose_name)\n",
    "kiss_file = path.join(data_root, kiss_pose_name)\n",
    "\n",
    "traj_ref = file_interface.read_tum_trajectory_file(gps_file)\n",
    "traj_ekf = file_interface.read_tum_trajectory_file(ekf_file)\n",
    "traj_kiss = file_interface.read_tum_trajectory_file(kiss_file)\n",
    "\n",
    "kiss_compare_traj = (traj_ref, traj_kiss)\n",
    "ekf_compare_traj = (traj_ref, traj_ekf)\n",
    "\n"
   ]
  },
  {
   "cell_type": "code",
   "execution_count": null,
   "metadata": {},
   "outputs": [],
   "source": [
    "metric = plot_compare(ekf_compare_traj, print_stats=False, plot_mode='xyz', est_name=\"EKF\", wf=2, hf=0.5)"
   ]
  },
  {
   "cell_type": "markdown",
   "metadata": {},
   "source": [
    "### Compare Trajectories From Rosbag"
   ]
  },
  {
   "cell_type": "code",
   "execution_count": null,
   "metadata": {},
   "outputs": [],
   "source": [
    "remote_switch = \"local\" # [local, remote]\n",
    "\n",
    "# test_set_switch = \"01-full-merge-ekf-no-feedback\" # [01-full-merge-ekf-no-feedback, 02-full-merge-ekf-feedback, 03-full-merge-ekf-no-feedback-orig-kiss]\n",
    "test_set_switch = \"02-full-merge-ekf-feedback\" # [01-full-merge-ekf-no-feedback, 02-full-merge-ekf-feedback, 03-full-merge-ekf-no-feedback-orig-kiss]\n",
    "# test_set_switch = \"03-full-merge-ekf-no-feedback-orig-kiss\" # [01-full-merge-ekf-no-feedback, 02-full-merge-ekf-feedback, 03-full-merge-ekf-no-feedback-orig-kiss]\n",
    "\n",
    "compare_root = f\"data/ekf_analysis/{remote_switch}/{test_set_switch}\"\n",
    "\n",
    "DATA_FILES = [gps_pose_name, ekf_pose_name, kiss_pose_name]\n",
    "DATA_NAMES = [\"Reference\", \"EKF\", \"KISS-ICP\"]\n",
    "N_RUNS = 3\n",
    "\n",
    "data = {}\n",
    "\n",
    "for i in range(1, N_RUNS+1):\n",
    "    run = f\"run_{i:02d}\"\n",
    "    root = path.join(compare_root, run)\n",
    "    data[run] = {}\n",
    "    for data_file, data_name in zip(DATA_FILES, DATA_NAMES):\n",
    "        traj = file_interface.read_tum_trajectory_file(path.join(root, data_file))\n",
    "        data[run][data_name] = traj"
   ]
  },
  {
   "cell_type": "code",
   "execution_count": null,
   "metadata": {},
   "outputs": [],
   "source": [
    "# Compare a single Run\n",
    "run = 3\n",
    "trajectories, names = [v for v in data[f\"run_{run:02d}\"].values()], [k for k in data[f\"run_{run:02d}\"].keys()]\n",
    "compare_plot_multiple(trajectories, names, plot_mode='xyz')"
   ]
  },
  {
   "cell_type": "code",
   "execution_count": null,
   "metadata": {},
   "outputs": [],
   "source": [
    "# Compare data across all runs of one test set\n",
    "trajectory_type = \"KISS-ICP\"\n",
    "trajectories, names = [],[]\n",
    "for i in range(1, N_RUNS+1):\n",
    "    run = f\"run_{i:02d}\"\n",
    "    names.append(run)\n",
    "    trajectories.append(data[run][trajectory_type])\n",
    "\n",
    "names.append(\"Reference\")\n",
    "trajectories.append(data[run][\"Reference\"])\n",
    "compare_plot_multiple(trajectories, names, plot_mode='xyz', wf=2, hf=0.5)"
   ]
  },
  {
   "cell_type": "markdown",
   "metadata": {},
   "source": [
    "### KISS-ICP via Python API Test"
   ]
  },
  {
   "cell_type": "code",
   "execution_count": null,
   "metadata": {},
   "outputs": [],
   "source": [
    "test_set = \"full_merge\"\n",
    "python_api_root = f\"data/kiss_python/{test_set}/\"\n",
    "\n",
    "python_runs = [(file_interface.read_tum_trajectory_file(path.join(python_api_root, f\"run_{run:02d}\" ,\"gps.tum\")),\n",
    "                file_interface.read_tum_trajectory_file(path.join(python_api_root, f\"run_{run:02d}\" ,\"odometry.tum\"))) for run in range(1,4)]\n",
    "\n",
    "kiss_python_path = 'data/kiss_python/full_merge/odometry.tum'\n",
    "gps_python_path = 'data/kiss_python/full_merge/gps.tum'\n",
    "# traj_kiss_python = file_interface.read_tum_trajectory_file(kiss_python_path)\n",
    "# traj_gps_python = file_interface.read_tum_trajectory_file(gps_python_path)\n",
    "# kiss_python_compare_traj = (traj_gps_python, traj_kiss_python)"
   ]
  },
  {
   "cell_type": "code",
   "execution_count": null,
   "metadata": {},
   "outputs": [],
   "source": [
    "plot_trajectories_from_poses(traj_ref, [python_runs[i][1] for i in range(len(python_runs))], \"KISS-ICP\")"
   ]
  },
  {
   "cell_type": "code",
   "execution_count": null,
   "metadata": {},
   "outputs": [],
   "source": [
    "kiss_runs = [run[1] for run in python_runs]\n",
    "compare_plot_multiple(kiss_runs, [f\"run_{i}\" for i in range(1,4)])"
   ]
  },
  {
   "cell_type": "code",
   "execution_count": null,
   "metadata": {},
   "outputs": [],
   "source": [
    "pose_relation = PoseRelation.translation_part\n",
    "title = \"\"\n",
    "\n",
    "metric_result = plot_compare(python_runs[0], print_stats=False, plot_mode='xyz', est_name=\"KISS-ICP\", pose_relation=pose_relation, title=title)\n",
    "# plt.savefig(f\"tmp/com2.pdf\", format=\"pdf\", bbox_inches=\"tight\")\n",
    "# print(metric_result.pretty_str())"
   ]
  },
  {
   "cell_type": "code",
   "execution_count": null,
   "metadata": {},
   "outputs": [],
   "source": [
    "# Compare Python KISS to ROS KISS\n",
    "compare_plot_multiple([python_runs[0][1], traj_ekf], [\"KISS-Python\", \"EKF\"], plot_mode='rpy')\n"
   ]
  },
  {
   "cell_type": "markdown",
   "metadata": {},
   "source": [
    "## Interactive"
   ]
  },
  {
   "cell_type": "code",
   "execution_count": null,
   "metadata": {},
   "outputs": [],
   "source": [
    "# interactive widgets configuration\n",
    "import ipywidgets\n",
    "\n",
    "check_opts_ape = {\"align\": False, \"correct_scale\": False, \"show_plot\": True}\n",
    "check_boxes_ape=[ipywidgets.Checkbox(description=desc, value=val) for desc, val in check_opts_ape.items()]\n",
    "check_opts_rpe = {\"align\": False, \"correct_scale\": False, \"all_pairs\": False, \"show_plot\": True}\n",
    "check_boxes_rpe=[ipywidgets.Checkbox(description=desc, value=val) for desc, val in check_opts_rpe.items()]\n",
    "delta_input = ipywidgets.FloatText(value=1.0, description='delta', disabled=False, color='black')\n",
    "delta_unit_selector=ipywidgets.Dropdown(\n",
    "    options={u.value: u for u in Unit if u is not Unit.seconds},\n",
    "    value=Unit.frames, description='delta_unit'\n",
    ")\n",
    "plotmode_selector=ipywidgets.Dropdown(\n",
    "    options={p.value: p for p in PlotMode},\n",
    "    value=PlotMode.xy, description='plot_mode'\n",
    ")\n",
    "pose_relation_selector=ipywidgets.Dropdown(\n",
    "    options={p.value: p for p in PoseRelation},\n",
    "    value=PoseRelation.translation_part, description='pose_relation'\n",
    ")"
   ]
  },
  {
   "cell_type": "code",
   "execution_count": null,
   "metadata": {},
   "outputs": [],
   "source": [
    "ape_metric = metrics.APE()\n",
    "ape_metric.process_data((traj_ref, traj_est))\n",
    "ape_stats = ape_metric.get_all_statistics()\n",
    "pprint.pprint(ape_stats)\n",
    "plot_ape_errors(traj_ref, traj_est, ape_metric, ape_stats)"
   ]
  },
  {
   "cell_type": "code",
   "execution_count": null,
   "metadata": {},
   "outputs": [],
   "source": [
    "import evo.main_ape as main_ape\n",
    "import evo.common_ape_rpe as common\n",
    "\n",
    "count = 0\n",
    "results = []\n",
    "\n",
    "def callback_ape(pose_relation, align, correct_scale, plot_mode, show_plot):\n",
    "    global results, count\n",
    "    est_name=\"APE Test #{}\".format(count)\n",
    "    \n",
    "    result = main_ape.ape(traj_ref, traj_est, est_name=est_name,\n",
    "                          pose_relation=pose_relation, align=align, correct_scale=correct_scale)\n",
    "    \n",
    "    count += 1\n",
    "    results.append(result)\n",
    "    \n",
    "    if show_plot:\n",
    "        fig = plt.figure()\n",
    "        ax = plot.prepare_axis(fig, plot_mode)\n",
    "        plot.traj(ax, plot_mode, traj_ref, style=\"--\", alpha=0.5)\n",
    "        plot.traj_colormap(\n",
    "            ax, result.trajectories[est_name], result.np_arrays[\"error_array\"], plot_mode,\n",
    "            min_map=result.stats[\"min\"], max_map=result.stats[\"max\"])\n",
    "    \n",
    "_ = ipywidgets.interact_manual(callback_ape, pose_relation=pose_relation_selector, plot_mode=plotmode_selector,\n",
    "                               **{c.description: c.value for c in check_boxes_ape})\n"
   ]
  },
  {
   "cell_type": "code",
   "execution_count": null,
   "metadata": {},
   "outputs": [],
   "source": [
    "import evo.main_rpe as main_rpe\n",
    "\n",
    "count = 0\n",
    "results = []\n",
    "\n",
    "def callback_rpe(pose_relation, delta, delta_unit, all_pairs, align, correct_scale, plot_mode, show_plot):\n",
    "    global results, count\n",
    "    est_name=\"RPE Test #{}\".format(count)\n",
    "    result = main_rpe.rpe(traj_ref, traj_est, est_name=est_name,\n",
    "                          pose_relation=pose_relation, delta=delta, delta_unit=delta_unit, \n",
    "                          all_pairs=all_pairs, align=align, correct_scale=correct_scale, \n",
    "                          support_loop=True)\n",
    "    count += 1\n",
    "    results.append(result)\n",
    "    \n",
    "    if show_plot:\n",
    "        fig = plt.figure()\n",
    "        ax = plot.prepare_axis(fig, plot_mode)\n",
    "        plot.traj(ax, plot_mode, traj_ref, style=\"--\", alpha=0.5)\n",
    "        plot.traj_colormap(\n",
    "            ax, result.trajectories[est_name], result.np_arrays[\"error_array\"], plot_mode,\n",
    "            min_map=result.stats[\"min\"], max_map=result.stats[\"max\"])\n",
    "\n",
    "_ = ipywidgets.interact_manual(callback_rpe, pose_relation=pose_relation_selector, plot_mode=plotmode_selector, \n",
    "                               delta=delta_input, delta_unit=delta_unit_selector, \n",
    "                               **{c.description: c.value for c in check_boxes_rpe})"
   ]
  }
 ],
 "metadata": {
  "kernelspec": {
   "display_name": "Python 3",
   "language": "python",
   "name": "python3"
  },
  "language_info": {
   "codemirror_mode": {
    "name": "ipython",
    "version": 3
   },
   "file_extension": ".py",
   "mimetype": "text/x-python",
   "name": "python",
   "nbconvert_exporter": "python",
   "pygments_lexer": "ipython3",
   "version": "3.8.10"
  },
  "orig_nbformat": 4
 },
 "nbformat": 4,
 "nbformat_minor": 2
}
