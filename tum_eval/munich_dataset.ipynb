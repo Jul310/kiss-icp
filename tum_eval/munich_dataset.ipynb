{
 "cells": [
  {
   "cell_type": "markdown",
   "id": "875e898a",
   "metadata": {},
   "source": [
    "# KISS-ICP running on the EDGAR Munich Dataset\n",
    "\n",
    "<div class=\"alert alert-block alert-danger\">\n",
    "<b>Note:</b> Currently tested with Datset version 2\n",
    "</div>\n",
    "\n",
    "\n",
    "## Expected dataset layout\n",
    "\n",
    "```sh\n",
    "munich_dataset_v2\n",
    "  ├── metadata.yaml\n",
    "  |── rosbag.db3\n",
    "```"
   ]
  },
  {
   "cell_type": "markdown",
   "id": "c1edcb8c",
   "metadata": {},
   "source": [
    "### Setup"
   ]
  },
  {
   "cell_type": "code",
   "execution_count": null,
   "id": "16d8e156",
   "metadata": {},
   "outputs": [],
   "source": [
    "\n",
    "import numpy as np\n",
    "import math\n",
    "\n",
    "from copy import deepcopy\n",
    "\n",
    "from evo.core.trajectory import PosePath3D, PoseTrajectory3D\n",
    "from evo.tools.file_interface import write_tum_trajectory_file\n",
    "from scipy.spatial.transform import Rotation as R\n",
    "from tools.tum_tools import *\n",
    "from tools.tum_plots import *\n",
    "from tools.tum_definitions import *\n",
    "\n",
    "from tools.tum_definitions import KISS_CONFIG as config\n",
    "\n",
    "from os import path\n",
    "\n",
    "%load_ext autoreload\n",
    "%autoreload 2\n",
    "\n",
    "# %matplotlib inline\n",
    "%matplotlib widget\n",
    "\n",
    "# Common definitions\n",
    "pickle_root = \"data/pickle/\"\n"
   ]
  },
  {
   "cell_type": "code",
   "execution_count": null,
   "id": "e9c1576b",
   "metadata": {},
   "outputs": [],
   "source": [
    "# Load the full dataset\n",
    "\n",
    "data_root = \"/home/julian/projects/thesis/datasets/ext\"\n",
    "gps_data_root =  \"/home/julian/projects/thesis/datasets/gps_data\"\n",
    "\n",
    "kiss_trajectories = {}\n",
    "\n",
    "for dataset in Mdv3Dataset:\n",
    "    kiss_trajectories[dataset.value] = (path.join(data_root, 'converted', dataset.value), None, None, None)\n",
    "\n"
   ]
  },
  {
   "cell_type": "code",
   "execution_count": null,
   "id": "e2ec8471",
   "metadata": {},
   "outputs": [],
   "source": [
    "# Extract certain keys in case not the full pipeline is to be used\n",
    "extract_keys = [Mdv3Dataset.FULL_MERGE]\n",
    "kiss_trajectories = {k:v for k,v in kiss_trajectories.items() if Mdv3Dataset(k) in extract_keys}"
   ]
  },
  {
   "cell_type": "markdown",
   "id": "64c1f99c",
   "metadata": {},
   "source": [
    "### Read Pickle Files"
   ]
  },
  {
   "cell_type": "code",
   "execution_count": null,
   "id": "2f367868",
   "metadata": {},
   "outputs": [],
   "source": [
    "name=\"kiss_trajectories_corrected_corr\"\n",
    "kiss_trajectories_corrected = read_pickle(path.join(pickle_root, 'full2', name))"
   ]
  },
  {
   "cell_type": "code",
   "execution_count": null,
   "id": "0b652d2a",
   "metadata": {},
   "outputs": [],
   "source": [
    "name=\"kiss_trajectories\"\n",
    "kiss_trajectories = read_pickle(path.join(pickle_root, 'full2', name))"
   ]
  },
  {
   "cell_type": "code",
   "execution_count": null,
   "id": "435fd530",
   "metadata": {},
   "outputs": [],
   "source": [
    "# Read GT Pickle File\n",
    "gt_data = read_pickle(path.join(pickle_root, \"full2\", \"gt_poses\"))"
   ]
  },
  {
   "cell_type": "markdown",
   "id": "3d7c0543",
   "metadata": {},
   "source": [
    "### Write Pickle Files"
   ]
  },
  {
   "cell_type": "code",
   "execution_count": null,
   "id": "b51ac094",
   "metadata": {},
   "outputs": [],
   "source": [
    "name=\"kiss_trajectories_corrected_corr\"\n",
    "write_pickle(path.join(pickle_root, 'full2', name))"
   ]
  },
  {
   "cell_type": "code",
   "execution_count": null,
   "id": "11aa50b7",
   "metadata": {},
   "outputs": [],
   "source": [
    "name=\"kiss_trajectories_corr\"\n",
    "write_pickle(path.join(pickle_root, 'full2', name))"
   ]
  },
  {
   "cell_type": "code",
   "execution_count": null,
   "id": "2c76b2bd",
   "metadata": {},
   "outputs": [],
   "source": [
    "# Write GT Pickle File\n",
    "write_pickle(gt_data, path.join(pickle_root, \"gt_poses\"))"
   ]
  },
  {
   "cell_type": "markdown",
   "id": "3cb3f016",
   "metadata": {},
   "source": [
    "### Write to TUM Format"
   ]
  },
  {
   "cell_type": "code",
   "execution_count": null,
   "id": "3c3016cd",
   "metadata": {},
   "outputs": [],
   "source": [
    "run = 3\n",
    "fpath_kiss = path.join('data', 'kiss_python', 'full_merge', f'run_{run:02d}', 'odometry.tum')\n",
    "fpath_gps = path.join('data', 'kiss_python', 'full_merge', f'run_{run:02d}', 'gps.tum')\n",
    "write_tum_trajectory_file(fpath_kiss, kiss_trajectories_corrected[Mdv3Dataset.FULL_MERGE.value][2])\n",
    "write_tum_trajectory_file(fpath_gps, gt_data['trajectory'])"
   ]
  },
  {
   "cell_type": "markdown",
   "id": "4a65020f",
   "metadata": {},
   "source": [
    "### Update Single Data"
   ]
  },
  {
   "cell_type": "code",
   "execution_count": null,
   "id": "6acdbba8",
   "metadata": {},
   "outputs": [],
   "source": [
    "update_key = \"mdv3_full_merge\""
   ]
  },
  {
   "cell_type": "code",
   "execution_count": null,
   "id": "b20eff84",
   "metadata": {},
   "outputs": [],
   "source": [
    "# TEMPORARY SAVE\n",
    "tmp_uncorrected = kiss_trajectories[update_key]\n",
    "tmp_corrected = kiss_trajectories_corrected[update_key]"
   ]
  },
  {
   "cell_type": "code",
   "execution_count": null,
   "metadata": {},
   "outputs": [],
   "source": [
    "# UPDATE\n",
    "kiss_trajectories[update_key] = tmp_uncorrected\n",
    "kiss_trajectories_corrected[update_key] = tmp_corrected"
   ]
  },
  {
   "cell_type": "markdown",
   "id": "9702714b",
   "metadata": {},
   "source": [
    "### GPS / Ground Truth Data Data"
   ]
  },
  {
   "cell_type": "code",
   "execution_count": null,
   "id": "5ed49dd8",
   "metadata": {},
   "outputs": [],
   "source": [
    "# READ GT POSES\n",
    "\n",
    "# gt_poses_abs, gt_poses_stamps = load_gt_poses(kiss_trajectories[list(kiss_trajectories.keys())[0]][0], wgsToENU)\n",
    "gt_poses_abs, gt_poses_stamps = load_gt_poses(path.join(gps_data_root, \"mdv3_1\"), wgsToENU)\n",
    "\n",
    "gt_poses_t = []\n",
    "for i in range(len(gt_poses_abs)):\n",
    "    translation = gt_poses_abs[i]\n",
    "    \n",
    "    # Convert quaternion to rotation matrix\n",
    "    rotation_matrix = np.eye(3)\n",
    "    \n",
    "    # Create SE3 transformation matrix\n",
    "    se3_matrix = np.eye(4)\n",
    "    se3_matrix[:3, :3] = rotation_matrix\n",
    "    se3_matrix[:3, 3] = translation\n",
    "    \n",
    "    gt_poses_t.append(se3_matrix)\n",
    "    \n",
    "gt_poses_stamps = gt_poses_stamps[:len(gt_poses_t)]\n",
    "gt_poses_se3 = PoseTrajectory3D(poses_se3=gt_poses_t, timestamps=gt_poses_stamps)\n",
    "\n",
    "gt_data = {\n",
    "    \"abs_poses\": gt_poses_abs,\n",
    "    \"translational\": gt_poses_t,\n",
    "    \"trajectory\": gt_poses_se3,\n",
    "    \"stamps\": gt_poses_stamps\n",
    "}"
   ]
  },
  {
   "cell_type": "markdown",
   "id": "d47500b0",
   "metadata": {},
   "source": [
    "### Run KISS-ICP"
   ]
  },
  {
   "cell_type": "code",
   "execution_count": null,
   "id": "151c7c96",
   "metadata": {},
   "outputs": [],
   "source": [
    "def get_kiss_poses(dataset: dict, gt_poses=None):\n",
    "    for name, value in dataset.items():\n",
    "        print(f\"Proccesing {name}\")\n",
    "        path = value[0]\n",
    "        kiss_poses, trajectory_poses, timestamps = run_kiss_icp_pipeline(path, config, gt_poses)\n",
    "        dataset[name] = (path, kiss_poses, trajectory_poses, timestamps)\n"
   ]
  },
  {
   "cell_type": "code",
   "execution_count": null,
   "id": "d7b93b8b",
   "metadata": {},
   "outputs": [],
   "source": [
    "# # Run full KISS-ICP Pipeline\n",
    "get_kiss_poses(kiss_trajectories)\n",
    "\n",
    "# # Run single KISS-ICP Pipeline\n",
    "# instance = \"mdv3_innovusion_no_merge\"\n",
    "# ds = {instance: kiss_trajectories[instance]}\n",
    "# get_kiss_poses(ds)\n"
   ]
  },
  {
   "cell_type": "markdown",
   "id": "f28ababc",
   "metadata": {},
   "source": [
    "### KISS-ICP Post-Processing"
   ]
  },
  {
   "cell_type": "code",
   "execution_count": null,
   "id": "fd53d2d6",
   "metadata": {},
   "outputs": [],
   "source": [
    "# Copy for further modification\n",
    "kiss_trajectories_corrected = deepcopy(kiss_trajectories)\n",
    "# Apply initial heading corrections and put in new dictionary\n",
    "for ds in kiss_trajectories_corrected.keys():\n",
    "    align_origin(kiss_trajectories_corrected[ds][2])"
   ]
  },
  {
   "cell_type": "markdown",
   "id": "63b9f953",
   "metadata": {},
   "source": [
    "### Plotting"
   ]
  },
  {
   "cell_type": "code",
   "execution_count": null,
   "id": "24c2224b",
   "metadata": {},
   "outputs": [],
   "source": [
    "# Plotting for different Headings\n",
    "\n",
    "from copy import deepcopy\n",
    "\n",
    "origin_se3 = np.eye(4)\n",
    "origin_se3_2 = np.eye(4)\n",
    "origin_se3[:3,:3] = gt_roation_matrix\n",
    "origin_se3_2[:3,:3] = gt_roation_matrix2\n",
    "\n",
    "ref_traj = PosePath3D(poses_se3=[origin_se3])\n",
    "ref_traj2 = PosePath3D(poses_se3=[origin_se3_2])\n",
    "\n",
    "kiss_trajectories[\"mdv3\"] = deepcopy(kiss_trajectories[\"mdv3_sync_merge\"])\n",
    "kiss_trajectories[\"mdv3_101\"] = deepcopy(kiss_trajectories[\"mdv3_sync_merge\"])\n",
    "kiss_trajectories[\"mdv3_205\"] = deepcopy(kiss_trajectories[\"mdv3_sync_merge\"])\n",
    "kiss_trajectories[\"mdv3_101\"][2].align_origin(ref_traj)\n",
    "kiss_trajectories[\"mdv3_205\"][2].align_origin(ref_traj2)\n",
    "\n",
    "plot_data = {\n",
    "    \"KISS-Poses Uncorrected\": kiss_trajectories[\"mdv3\"],\n",
    "    \"KISS-Poses Heading 101°\": kiss_trajectories[\"mdv3_101\"],\n",
    "    \"KISS-Poses Heading 205°\": kiss_trajectories[\"mdv3_205\"],    \n",
    "}\n",
    "\n",
    "\n",
    "fig = plot_trajectories(plot_data, gt_data[\"abs_poses\"])\n",
    "\n",
    "output_filename = \"heading-kiss-poses.pdf\"\n",
    "plt.savefig(f\"figures/{output_filename}.pdf\", format=\"pdf\", bbox_inches=\"tight\")"
   ]
  },
  {
   "cell_type": "code",
   "execution_count": null,
   "id": "27ea21a3",
   "metadata": {},
   "outputs": [],
   "source": [
    "plot_trajectories(kiss_trajectories, gt_data[\"abs_poses\"])"
   ]
  },
  {
   "cell_type": "code",
   "execution_count": null,
   "id": "6f63e1d1",
   "metadata": {},
   "outputs": [],
   "source": [
    "kiss_trajectories_corrected[\"reference\"] = (None, None, PosePath3D(poses_se3=gt_poses_t))\n",
    "tmp_dict = {\n",
    "            \"example\":kiss_trajectories_corrected[\"mdv3_ouster_merge\"],\n",
    "            \"reference\" : kiss_trajectories_corrected[\"reference\"]\n",
    "            }\n",
    "plot_trajectories(tmp_dict, gt_poses_abs)\n",
    "del kiss_trajectories_corrected[\"reference\"]"
   ]
  },
  {
   "cell_type": "code",
   "execution_count": null,
   "id": "7b658c1c",
   "metadata": {},
   "outputs": [],
   "source": [
    "plot_trajectories(kiss_trajectories_corrected, gt_data[\"abs_poses\"], figsize=(20,10))\n",
    "plt.savefig(\"figures/full-compare.pdf\", format=\"pdf\", bbox_inches=\"tight\")\n"
   ]
  }
 ],
 "metadata": {
  "kernelspec": {
   "display_name": "Python 3 (ipykernel)",
   "language": "python",
   "name": "python3"
  },
  "language_info": {
   "codemirror_mode": {
    "name": "ipython",
    "version": 3
   },
   "file_extension": ".py",
   "mimetype": "text/x-python",
   "name": "python",
   "nbconvert_exporter": "python",
   "pygments_lexer": "ipython3",
   "version": "3.8.10"
  },
  "vscode": {
   "interpreter": {
    "hash": "31f2aee4e71d21fbe5cf8b01ff0e069b9275f58929596ceb00d14d90e3e16cd6"
   }
  }
 },
 "nbformat": 4,
 "nbformat_minor": 5
}
