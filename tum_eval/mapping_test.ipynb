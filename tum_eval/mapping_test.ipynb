{
 "cells": [
  {
   "cell_type": "code",
   "execution_count": null,
   "metadata": {},
   "outputs": [],
   "source": [
    "import math\n",
    "import numpy as np\n",
    "import os\n",
    "import open3d as o3d\n",
    "import pprint\n",
    "\n",
    "from evo.tools import plot\n",
    "from evo.tools.plot import PlotMode\n",
    "from evo.core.metrics import PoseRelation, Unit\n",
    "from evo.tools.settings import SETTINGS\n",
    "from evo.tools import file_interface\n",
    "from evo.core import sync\n",
    "from evo.core.sync import TrajectoryPair\n",
    "\n",
    "from os import path\n",
    "from tools.tum_plots import *\n",
    "from tools.tum_tools import *\n",
    "\n",
    "# temporarily override some package settings\n",
    "SETTINGS.plot_figsize = [6, 6]\n",
    "SETTINGS.plot_split = True\n",
    "SETTINGS.plot_usetex = True\n",
    "\n",
    "%load_ext autoreload\n",
    "%autoreload 2\n",
    "\n",
    "# magic plot configuration\n",
    "import matplotlib.pyplot as plt\n",
    "%matplotlib widget\n"
   ]
  },
  {
   "cell_type": "markdown",
   "metadata": {},
   "source": [
    "#### Analyse Timestamps between PC and EKF Pose"
   ]
  },
  {
   "cell_type": "code",
   "execution_count": null,
   "metadata": {},
   "outputs": [],
   "source": [
    "data_root = \"data/ekf_analysis/v2/02-full-merge-ekf-feedback/run_01/\"\n",
    "\n",
    "gps_pose_name = \"ekf_gt_gps.tum\"\n",
    "ekf_pose_name = \"ekf_pose_with_covariance.tum\"\n",
    "kiss_pose_name = \"odometry.tum\"\n",
    "\n",
    "# gps_file = path.join(data_root, gps_pose_name)\n",
    "ekf_file = path.join(data_root, ekf_pose_name)\n",
    "traj_ekf = file_interface.read_tum_trajectory_file(ekf_file)\n",
    "\n",
    "# Read lidar timestamps\n",
    "pcd_root = \"/home/julian/projects/thesis/datasets/ext/converted/\"\n",
    "times_file = path.join(pcd_root, \"mdv3_full_merge\", \"times/lidar_timestamps.txt\")\n",
    "\n",
    "stamps = np.loadtxt(times_file)\n",
    "\n",
    "timestamps = stamps[:,0]  + stamps[:,1] *1e-9\n",
    "ekf_stamps = traj_ekf.timestamps\n",
    "timestamps = timestamps[:, np.newaxis]\n",
    "ekf_stamps = ekf_stamps[np.newaxis, :]\n",
    "\n",
    "differences = np.abs(timestamps- ekf_stamps)\n",
    "\n",
    "closest_indices = np.argmin(differences, axis=1)\n",
    "\n",
    "print(differences.shape)\n",
    "print(closest_indices.shape)\n",
    "\n",
    "closest_ekf_stamps = ekf_stamps[0, closest_indices]\n",
    "\n",
    "differences = abs(timestamps[:,0] - closest_ekf_stamps)\n",
    "\n",
    "x = differences\n",
    "x, y = sorted(x), np.arange(len(x)) / len(x)\n",
    "simple_plot(x,y, plot_fn=plt.plot, xlabel=\"Time Difference [s]\", ylabel='CDF', label=\"timestamp_analysis.\")"
   ]
  },
  {
   "cell_type": "markdown",
   "metadata": {},
   "source": [
    "## Analyze PCs"
   ]
  },
  {
   "cell_type": "code",
   "execution_count": null,
   "metadata": {},
   "outputs": [],
   "source": [
    "pcd_dir = path.join(pcd_root, \"mdv3_full_merge\", 'pcd')\n",
    "pcd_files = [path.join(pcd_dir, f) for f in os.listdir(pcd_dir) if f.endswith('.pcd')]"
   ]
  },
  {
   "cell_type": "code",
   "execution_count": null,
   "metadata": {},
   "outputs": [],
   "source": [
    "# Read pointcloud\n",
    "pcd = o3d.io.read_point_cloud(pcd_files[0])"
   ]
  },
  {
   "cell_type": "code",
   "execution_count": 67,
   "metadata": {},
   "outputs": [],
   "source": [
    "o3d.visualization.draw_geometries([pcd])"
   ]
  },
  {
   "cell_type": "code",
   "execution_count": null,
   "metadata": {},
   "outputs": [],
   "source": [
    "print(pcd)"
   ]
  },
  {
   "cell_type": "markdown",
   "metadata": {},
   "source": [
    "### Downsample"
   ]
  },
  {
   "cell_type": "code",
   "execution_count": 65,
   "metadata": {},
   "outputs": [],
   "source": [
    "downpcd = pcd.voxel_down_sample(voxel_size=0.05)"
   ]
  },
  {
   "cell_type": "code",
   "execution_count": 66,
   "metadata": {},
   "outputs": [],
   "source": [
    "o3d.visualization.draw_geometries([downpcd])"
   ]
  }
 ],
 "metadata": {
  "kernelspec": {
   "display_name": "Python 3",
   "language": "python",
   "name": "python3"
  },
  "language_info": {
   "codemirror_mode": {
    "name": "ipython",
    "version": 3
   },
   "file_extension": ".py",
   "mimetype": "text/x-python",
   "name": "python",
   "nbconvert_exporter": "python",
   "pygments_lexer": "ipython3",
   "version": "3.8.10"
  },
  "orig_nbformat": 4
 },
 "nbformat": 4,
 "nbformat_minor": 2
}
